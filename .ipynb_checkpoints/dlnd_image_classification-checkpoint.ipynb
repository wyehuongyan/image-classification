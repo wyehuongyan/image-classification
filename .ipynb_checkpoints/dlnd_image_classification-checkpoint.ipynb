{
 "cells": [
  {
   "cell_type": "markdown",
   "metadata": {
    "collapsed": true,
    "deletable": true,
    "editable": true
   },
   "source": [
    "# Image Classification\n",
    "In this project, you'll classify images from the [CIFAR-10 dataset](https://www.cs.toronto.edu/~kriz/cifar.html).  The dataset consists of airplanes, dogs, cats, and other objects. You'll preprocess the images, then train a convolutional neural network on all the samples. The images need to be normalized and the labels need to be one-hot encoded.  You'll get to apply what you learned and build a convolutional, max pooling, dropout, and fully connected layers.  At the end, you'll get to see your neural network's predictions on the sample images.\n",
    "## Get the Data\n",
    "Run the following cell to download the [CIFAR-10 dataset for python](https://www.cs.toronto.edu/~kriz/cifar-10-python.tar.gz)."
   ]
  },
  {
   "cell_type": "code",
   "execution_count": 1,
   "metadata": {
    "collapsed": false,
    "deletable": true,
    "editable": true
   },
   "outputs": [
    {
     "name": "stdout",
     "output_type": "stream",
     "text": [
      "All files found!\n"
     ]
    }
   ],
   "source": [
    "\"\"\"\n",
    "DON'T MODIFY ANYTHING IN THIS CELL THAT IS BELOW THIS LINE\n",
    "\"\"\"\n",
    "from urllib.request import urlretrieve\n",
    "from os.path import isfile, isdir\n",
    "from tqdm import tqdm\n",
    "import problem_unittests as tests\n",
    "import tarfile\n",
    "\n",
    "cifar10_dataset_folder_path = 'cifar-10-batches-py'\n",
    "\n",
    "class DLProgress(tqdm):\n",
    "    last_block = 0\n",
    "\n",
    "    def hook(self, block_num=1, block_size=1, total_size=None):\n",
    "        self.total = total_size\n",
    "        self.update((block_num - self.last_block) * block_size)\n",
    "        self.last_block = block_num\n",
    "\n",
    "if not isfile('cifar-10-python.tar.gz'):\n",
    "    with DLProgress(unit='B', unit_scale=True, miniters=1, desc='CIFAR-10 Dataset') as pbar:\n",
    "        urlretrieve(\n",
    "            'https://www.cs.toronto.edu/~kriz/cifar-10-python.tar.gz',\n",
    "            'cifar-10-python.tar.gz',\n",
    "            pbar.hook)\n",
    "\n",
    "if not isdir(cifar10_dataset_folder_path):\n",
    "    with tarfile.open('cifar-10-python.tar.gz') as tar:\n",
    "        tar.extractall()\n",
    "        tar.close()\n",
    "\n",
    "\n",
    "tests.test_folder_path(cifar10_dataset_folder_path)"
   ]
  },
  {
   "cell_type": "markdown",
   "metadata": {
    "deletable": true,
    "editable": true
   },
   "source": [
    "## Explore the Data\n",
    "The dataset is broken into batches to prevent your machine from running out of memory.  The CIFAR-10 dataset consists of 5 batches, named `data_batch_1`, `data_batch_2`, etc.. Each batch contains the labels and images that are one of the following:\n",
    "* airplane\n",
    "* automobile\n",
    "* bird\n",
    "* cat\n",
    "* deer\n",
    "* dog\n",
    "* frog\n",
    "* horse\n",
    "* ship\n",
    "* truck\n",
    "\n",
    "Understanding a dataset is part of making predictions on the data.  Play around with the code cell below by changing the `batch_id` and `sample_id`. The `batch_id` is the id for a batch (1-5). The `sample_id` is the id for a image and label pair in the batch.\n",
    "\n",
    "Ask yourself \"What are all possible labels?\", \"What is the range of values for the image data?\", \"Are the labels in order or random?\".  Answers to questions like these will help you preprocess the data and end up with better predictions."
   ]
  },
  {
   "cell_type": "code",
   "execution_count": 2,
   "metadata": {
    "collapsed": false,
    "deletable": true,
    "editable": true
   },
   "outputs": [
    {
     "name": "stdout",
     "output_type": "stream",
     "text": [
      "\n",
      "Stats of batch 1:\n",
      "Samples: 10000\n",
      "Label Counts: {0: 1005, 1: 974, 2: 1032, 3: 1016, 4: 999, 5: 937, 6: 1030, 7: 1001, 8: 1025, 9: 981}\n",
      "First 20 Labels: [6, 9, 9, 4, 1, 1, 2, 7, 8, 3, 4, 7, 7, 2, 9, 9, 9, 3, 2, 6]\n",
      "\n",
      "Example of Image 5:\n",
      "Image - Min Value: 0 Max Value: 252\n",
      "Image - Shape: (32, 32, 3)\n",
      "Label - Label Id: 1 Name: automobile\n"
     ]
    },
    {
     "data": {
      "image/png": "[encoded data removed]",
      "text/plain": [
       "<matplotlib.figure.Figure at 0x7f3e829d31d0>"
      ]
     },
     "metadata": {
      "image/png": {
       "height": 250,
       "width": 253
      }
     },
     "output_type": "display_data"
    }
   ],
   "source": [
    "%matplotlib inline\n",
    "%config InlineBackend.figure_format = 'retina'\n",
    "\n",
    "import helper\n",
    "import numpy as np\n",
    "\n",
    "# Explore the dataset\n",
    "batch_id = 1\n",
    "sample_id = 5\n",
    "helper.display_stats(cifar10_dataset_folder_path, batch_id, sample_id)"
   ]
  },
  {
   "cell_type": "markdown",
   "metadata": {
    "deletable": true,
    "editable": true
   },
   "source": [
    "## Implement Preprocess Functions\n",
    "### Normalize\n",
    "In the cell below, implement the `normalize` function to take in image data, `x`, and return it as a normalized Numpy array. The values should be in the range of 0 to 1, inclusive.  The return object should be the same shape as `x`."
   ]
  },
  {
   "cell_type": "code",
   "execution_count": 3,
   "metadata": {
    "collapsed": false,
    "deletable": true,
    "editable": true
   },
   "outputs": [
    {
     "name": "stdout",
     "output_type": "stream",
     "text": [
      "Tests Passed\n"
     ]
    }
   ],
   "source": [
    "from sklearn.preprocessing import normalize as norm\n",
    "\n",
    "def normalize(x):\n",
    "    \"\"\"\n",
    "    Normalize a list of sample image data in the range of 0 to 1\n",
    "    : x: List of image data.  The image shape is (32, 32, 3)\n",
    "    : return: Numpy array of normalize data\n",
    "    \"\"\"\n",
    "    x_normed = x / x.max(axis=0)\n",
    "    \n",
    "    return x_normed\n",
    "\n",
    "\n",
    "\"\"\"\n",
    "DON'T MODIFY ANYTHING IN THIS CELL THAT IS BELOW THIS LINE\n",
    "\"\"\"\n",
    "tests.test_normalize(normalize)"
   ]
  },
  {
   "cell_type": "markdown",
   "metadata": {
    "deletable": true,
    "editable": true
   },
   "source": [
    "### One-hot encode\n",
    "Just like the previous code cell, you'll be implementing a function for preprocessing.  This time, you'll implement the `one_hot_encode` function. The input, `x`, are a list of labels.  Implement the function to return the list of labels as One-Hot encoded Numpy array.  The possible values for labels are 0 to 9. The one-hot encoding function should return the same encoding for each value between each call to `one_hot_encode`.  Make sure to save the map of encodings outside the function.\n",
    "\n",
    "Hint: Don't reinvent the wheel."
   ]
  },
  {
   "cell_type": "code",
   "execution_count": 4,
   "metadata": {
    "collapsed": false,
    "deletable": true,
    "editable": true
   },
   "outputs": [
    {
     "name": "stdout",
     "output_type": "stream",
     "text": [
      "Tests Passed\n"
     ]
    }
   ],
   "source": [
    "from sklearn import preprocessing\n",
    "\n",
    "def one_hot_encode(x):\n",
    "    \"\"\"\n",
    "    One hot encode a list of sample labels. Return a one-hot encoded vector for each label.\n",
    "    : x: List of sample Labels\n",
    "    : return: Numpy array of one-hot encoded labels\n",
    "    \"\"\"\n",
    "    \n",
    "    # Create the encoder\n",
    "    lb = preprocessing.LabelBinarizer()\n",
    "    lb.fit(range(max(x)+1))\n",
    "    lb.classes_ = np.array(list(range(10)))\n",
    "    \n",
    "    return lb.transform(x)\n",
    "\n",
    "\n",
    "\"\"\"\n",
    "DON'T MODIFY ANYTHING IN THIS CELL THAT IS BELOW THIS LINE\n",
    "\"\"\"\n",
    "tests.test_one_hot_encode(one_hot_encode)"
   ]
  },
  {
   "cell_type": "markdown",
   "metadata": {
    "deletable": true,
    "editable": true
   },
   "source": [
    "### Randomize Data\n",
    "As you saw from exploring the data above, the order of the samples are randomized.  It doesn't hurt to randomize it again, but you don't need to for this dataset."
   ]
  },
  {
   "cell_type": "markdown",
   "metadata": {
    "deletable": true,
    "editable": true
   },
   "source": [
    "## Preprocess all the data and save it\n",
    "Running the code cell below will preprocess all the CIFAR-10 data and save it to file. The code below also uses 10% of the training data for validation."
   ]
  },
  {
   "cell_type": "code",
   "execution_count": 5,
   "metadata": {
    "collapsed": false,
    "deletable": true,
    "editable": true
   },
   "outputs": [],
   "source": [
    "\"\"\"\n",
    "DON'T MODIFY ANYTHING IN THIS CELL\n",
    "\"\"\"\n",
    "# Preprocess Training, Validation, and Testing Data\n",
    "helper.preprocess_and_save_data(cifar10_dataset_folder_path, normalize, one_hot_encode)"
   ]
  },
  {
   "cell_type": "markdown",
   "metadata": {
    "deletable": true,
    "editable": true
   },
   "source": [
    "# Check Point\n",
    "This is your first checkpoint.  If you ever decide to come back to this notebook or have to restart the notebook, you can start from here.  The preprocessed data has been saved to disk."
   ]
  },
  {
   "cell_type": "code",
   "execution_count": 7,
   "metadata": {
    "collapsed": true,
    "deletable": true,
    "editable": true
   },
   "outputs": [],
   "source": [
    "\"\"\"\n",
    "DON'T MODIFY ANYTHING IN THIS CELL\n",
    "\"\"\"\n",
    "import pickle\n",
    "import problem_unittests as tests\n",
    "import helper\n",
    "\n",
    "# Load the Preprocessed Validation data\n",
    "valid_features, valid_labels = pickle.load(open('preprocess_validation.p', mode='rb'))"
   ]
  },
  {
   "cell_type": "markdown",
   "metadata": {
    "deletable": true,
    "editable": true
   },
   "source": [
    "## Build the network\n",
    "For the neural network, you'll build each layer into a function.  Most of the code you've seen has been outside of functions. To test your code more thoroughly, we require that you put each layer in a function.  This allows us to give you better feedback and test for simple mistakes using our unittests before you submit your project.\n",
    "\n",
    ">**Note:** If you're finding it hard to dedicate enough time for this course each week, we've provided a small shortcut to this part of the project. In the next couple of problems, you'll have the option to use classes from the [TensorFlow Layers](https://www.tensorflow.org/api_docs/python/tf/layers) or [TensorFlow Layers (contrib)](https://www.tensorflow.org/api_guides/python/contrib.layers) packages to build each layer, except the layers you build in the \"Convolutional and Max Pooling Layer\" section.  TF Layers is similar to Keras's and TFLearn's abstraction to layers, so it's easy to pickup.\n",
    "\n",
    ">However, if you would like to get the most out of this course, try to solve all the problems _without_ using anything from the TF Layers packages. You **can** still use classes from other packages that happen to have the same name as ones you find in TF Layers! For example, instead of using the TF Layers version of the `conv2d` class, [tf.layers.conv2d](https://www.tensorflow.org/api_docs/python/tf/layers/conv2d), you would want to use the TF Neural Network version of `conv2d`, [tf.nn.conv2d](https://www.tensorflow.org/api_docs/python/tf/nn/conv2d). \n",
    "\n",
    "Let's begin!\n",
    "\n",
    "### Input\n",
    "The neural network needs to read the image data, one-hot encoded labels, and dropout keep probability. Implement the following functions\n",
    "* Implement `neural_net_image_input`\n",
    " * Return a [TF Placeholder](https://www.tensorflow.org/api_docs/python/tf/placeholder)\n",
    " * Set the shape using `image_shape` with batch size set to `None`.\n",
    " * Name the TensorFlow placeholder \"x\" using the TensorFlow `name` parameter in the [TF Placeholder](https://www.tensorflow.org/api_docs/python/tf/placeholder).\n",
    "* Implement `neural_net_label_input`\n",
    " * Return a [TF Placeholder](https://www.tensorflow.org/api_docs/python/tf/placeholder)\n",
    " * Set the shape using `n_classes` with batch size set to `None`.\n",
    " * Name the TensorFlow placeholder \"y\" using the TensorFlow `name` parameter in the [TF Placeholder](https://www.tensorflow.org/api_docs/python/tf/placeholder).\n",
    "* Implement `neural_net_keep_prob_input`\n",
    " * Return a [TF Placeholder](https://www.tensorflow.org/api_docs/python/tf/placeholder) for dropout keep probability.\n",
    " * Name the TensorFlow placeholder \"keep_prob\" using the TensorFlow `name` parameter in the [TF Placeholder](https://www.tensorflow.org/api_docs/python/tf/placeholder).\n",
    "\n",
    "These names will be used at the end of the project to load your saved model.\n",
    "\n",
    "Note: `None` for shapes in TensorFlow allow for a dynamic size."
   ]
  },
  {
   "cell_type": "code",
   "execution_count": 8,
   "metadata": {
    "collapsed": false,
    "deletable": true,
    "editable": true
   },
   "outputs": [
    {
     "name": "stdout",
     "output_type": "stream",
     "text": [
      "Image Input Tests Passed.\n",
      "Label Input Tests Passed.\n",
      "Keep Prob Tests Passed.\n"
     ]
    }
   ],
   "source": [
    "import tensorflow as tf\n",
    "\n",
    "def neural_net_image_input(image_shape):\n",
    "    \"\"\"\n",
    "    Return a Tensor for a bach of image input\n",
    "    : image_shape: Shape of the images\n",
    "    : return: Tensor for image input.\n",
    "    \"\"\"\n",
    "    image_shape = (None,) + image_shape\n",
    "    x = tf.placeholder(tf.float32, shape=image_shape, name='x')\n",
    "    \n",
    "    return x\n",
    "\n",
    "\n",
    "def neural_net_label_input(n_classes):\n",
    "    \"\"\"\n",
    "    Return a Tensor for a batch of label input\n",
    "    : n_classes: Number of classes\n",
    "    : return: Tensor for label input.\n",
    "    \"\"\"\n",
    "    y = tf.placeholder(tf.float32, shape=[None, n_classes], name='y')\n",
    "\n",
    "    return y\n",
    "\n",
    "\n",
    "def neural_net_keep_prob_input():\n",
    "    \"\"\"\n",
    "    Return a Tensor for keep probability\n",
    "    : return: Tensor for keep probability.\n",
    "    \"\"\"\n",
    "    keep_prob = tf.placeholder(tf.float32, name='keep_prob')\n",
    "    return keep_prob\n",
    "\n",
    "\n",
    "\"\"\"\n",
    "DON'T MODIFY ANYTHING IN THIS CELL THAT IS BELOW THIS LINE\n",
    "\"\"\"\n",
    "tf.reset_default_graph()\n",
    "tests.test_nn_image_inputs(neural_net_image_input)\n",
    "tests.test_nn_label_inputs(neural_net_label_input)\n",
    "tests.test_nn_keep_prob_inputs(neural_net_keep_prob_input)"
   ]
  },
  {
   "cell_type": "markdown",
   "metadata": {
    "deletable": true,
    "editable": true
   },
   "source": [
    "### Convolution and Max Pooling Layer\n",
    "Convolution layers have a lot of success with images. For this code cell, you should implement the function `conv2d_maxpool` to apply convolution then max pooling:\n",
    "* Create the weight and bias using `conv_ksize`, `conv_num_outputs` and the shape of `x_tensor`.\n",
    "* Apply a convolution to `x_tensor` using weight and `conv_strides`.\n",
    " * We recommend you use same padding, but you're welcome to use any padding.\n",
    "* Add bias\n",
    "* Add a nonlinear activation to the convolution.\n",
    "* Apply Max Pooling using `pool_ksize` and `pool_strides`.\n",
    " * We recommend you use same padding, but you're welcome to use any padding.\n",
    "\n",
    "**Note:** You **can't** use [TensorFlow Layers](https://www.tensorflow.org/api_docs/python/tf/layers) or [TensorFlow Layers (contrib)](https://www.tensorflow.org/api_guides/python/contrib.layers) for **this** layer, but you can still use TensorFlow's [Neural Network](https://www.tensorflow.org/api_docs/python/tf/nn) package. You may still use the shortcut option for all the **other** layers."
   ]
  },
  {
   "cell_type": "code",
   "execution_count": 9,
   "metadata": {
    "collapsed": false,
    "deletable": true,
    "editable": true
   },
   "outputs": [
    {
     "name": "stdout",
     "output_type": "stream",
     "text": [
      "Tests Passed\n"
     ]
    }
   ],
   "source": [
    "def conv2d_maxpool(x_tensor, conv_num_outputs, conv_ksize, conv_strides, pool_ksize, pool_strides):\n",
    "    \"\"\"\n",
    "    Apply convolution then max pooling to x_tensor\n",
    "    :param x_tensor: TensorFlow Tensor\n",
    "    :param conv_num_outputs: Number of outputs for the convolutional layer\n",
    "    :param conv_ksize: kernal size 2-D Tuple for the convolutional layer\n",
    "    :param conv_strides: Stride 2-D Tuple for convolution\n",
    "    :param pool_ksize: kernal size 2-D Tuple for pool\n",
    "    :param pool_strides: Stride 2-D Tuple for pool\n",
    "    : return: A tensor that represents convolution and max pooling of x_tensor\n",
    "    \"\"\"\n",
    "    depth = x_tensor.shape[-1].value # Input depth\n",
    "    \n",
    "    # Weight and Bias\n",
    "    weight = tf.Variable(tf.truncated_normal([conv_ksize[0], conv_ksize[1], depth, conv_num_outputs], stddev = 0.1))\n",
    "    bias = tf.Variable(tf.zeros(conv_num_outputs))\n",
    "        \n",
    "    # Apply convolution\n",
    "    conv_layer = tf.nn.conv2d(x_tensor, weight, strides=[1, conv_strides[0], conv_strides[1], 1], padding='SAME')\n",
    "    # Add bias\n",
    "    conv_layer = tf.nn.bias_add(conv_layer, bias)\n",
    "    # Apply activation function\n",
    "    conv_layer = tf.nn.relu(conv_layer)\n",
    "    \n",
    "    # Apply Max Pooling\n",
    "    conv_layer = tf.nn.max_pool(\n",
    "        conv_layer,\n",
    "        ksize=[1, pool_ksize[0], pool_ksize[1], 1],\n",
    "        strides=[1, pool_strides[0], pool_strides[1], 1],\n",
    "        padding='SAME')\n",
    "    \n",
    "    return conv_layer \n",
    "\n",
    "\n",
    "\"\"\"\n",
    "DON'T MODIFY ANYTHING IN THIS CELL THAT IS BELOW THIS LINE\n",
    "\"\"\"\n",
    "tests.test_con_pool(conv2d_maxpool)"
   ]
  },
  {
   "cell_type": "markdown",
   "metadata": {
    "deletable": true,
    "editable": true
   },
   "source": [
    "### Flatten Layer\n",
    "Implement the `flatten` function to change the dimension of `x_tensor` from a 4-D tensor to a 2-D tensor.  The output should be the shape (*Batch Size*, *Flattened Image Size*). Shortcut option: you can use classes from the [TensorFlow Layers](https://www.tensorflow.org/api_docs/python/tf/layers) or [TensorFlow Layers (contrib)](https://www.tensorflow.org/api_guides/python/contrib.layers) packages for this layer. For more of a challenge, only use other TensorFlow packages."
   ]
  },
  {
   "cell_type": "code",
   "execution_count": 10,
   "metadata": {
    "collapsed": false,
    "deletable": true,
    "editable": true
   },
   "outputs": [
    {
     "name": "stdout",
     "output_type": "stream",
     "text": [
      "Tests Passed\n"
     ]
    }
   ],
   "source": [
    "def flatten(x_tensor):\n",
    "    \"\"\"\n",
    "    Flatten x_tensor to (Batch Size, Flattened Image Size)\n",
    "    : x_tensor: A tensor of size (Batch Size, ...), where ... are the image dimensions.\n",
    "    : return: A tensor of size (Batch Size, Flattened Image Size).\n",
    "    \"\"\"\n",
    "    flattened_img_size = np.prod(x_tensor.get_shape().as_list()[1:])\n",
    "    \n",
    "    return tf.reshape(x_tensor, [-1, flattened_img_size])\n",
    "\n",
    "\n",
    "\"\"\"\n",
    "DON'T MODIFY ANYTHING IN THIS CELL THAT IS BELOW THIS LINE\n",
    "\"\"\"\n",
    "tests.test_flatten(flatten)"
   ]
  },
  {
   "cell_type": "markdown",
   "metadata": {
    "deletable": true,
    "editable": true
   },
   "source": [
    "### Fully-Connected Layer\n",
    "Implement the `fully_conn` function to apply a fully connected layer to `x_tensor` with the shape (*Batch Size*, *num_outputs*). Shortcut option: you can use classes from the [TensorFlow Layers](https://www.tensorflow.org/api_docs/python/tf/layers) or [TensorFlow Layers (contrib)](https://www.tensorflow.org/api_guides/python/contrib.layers) packages for this layer. For more of a challenge, only use other TensorFlow packages."
   ]
  },
  {
   "cell_type": "code",
   "execution_count": 11,
   "metadata": {
    "collapsed": false,
    "deletable": true,
    "editable": true
   },
   "outputs": [
    {
     "name": "stdout",
     "output_type": "stream",
     "text": [
      "Tests Passed\n"
     ]
    }
   ],
   "source": [
    "def fully_conn(x_tensor, num_outputs):\n",
    "    \"\"\"\n",
    "    Apply a fully connected layer to x_tensor using weight and bias\n",
    "    : x_tensor: A 2-D tensor where the first dimension is batch size.\n",
    "    : num_outputs: The number of output that the new tensor should be.\n",
    "    : return: A 2-D tensor where the second dimension is num_outputs.\n",
    "    \"\"\"\n",
    "    num_inputs = x_tensor.get_shape().as_list()[1]\n",
    "    \n",
    "    weight = tf.Variable(tf.truncated_normal([num_inputs, num_outputs], stddev = 0.1))\n",
    "    bias = tf.Variable(tf.zeros(num_outputs))\n",
    "    \n",
    "    fc1 = tf.add(tf.matmul(x_tensor, weight), bias)\n",
    "    fc1 = tf.nn.relu(fc1)\n",
    "     \n",
    "    return fc1\n",
    "\n",
    "\n",
    "\"\"\"\n",
    "DON'T MODIFY ANYTHING IN THIS CELL THAT IS BELOW THIS LINE\n",
    "\"\"\"\n",
    "tests.test_fully_conn(fully_conn)"
   ]
  },
  {
   "cell_type": "markdown",
   "metadata": {
    "deletable": true,
    "editable": true
   },
   "source": [
    "### Output Layer\n",
    "Implement the `output` function to apply a fully connected layer to `x_tensor` with the shape (*Batch Size*, *num_outputs*). Shortcut option: you can use classes from the [TensorFlow Layers](https://www.tensorflow.org/api_docs/python/tf/layers) or [TensorFlow Layers (contrib)](https://www.tensorflow.org/api_guides/python/contrib.layers) packages for this layer. For more of a challenge, only use other TensorFlow packages.\n",
    "\n",
    "**Note:** Activation, softmax, or cross entropy should **not** be applied to this."
   ]
  },
  {
   "cell_type": "code",
   "execution_count": 12,
   "metadata": {
    "collapsed": false,
    "deletable": true,
    "editable": true
   },
   "outputs": [
    {
     "name": "stdout",
     "output_type": "stream",
     "text": [
      "Tests Passed\n"
     ]
    }
   ],
   "source": [
    "def output(x_tensor, num_outputs):\n",
    "    \"\"\"\n",
    "    Apply a output layer to x_tensor using weight and bias\n",
    "    : x_tensor: A 2-D tensor where the first dimension is batch size.\n",
    "    : num_outputs: The number of output that the new tensor should be.\n",
    "    : return: A 2-D tensor where the second dimension is num_outputs.\n",
    "    \"\"\"\n",
    "    num_inputs = x_tensor.get_shape().as_list()[1]\n",
    "    \n",
    "    weight = tf.Variable(tf.random_normal([num_inputs, num_outputs], stddev = 0.1))\n",
    "    bias = tf.Variable(tf.zeros(num_outputs))\n",
    "    \n",
    "    return tf.add(tf.matmul(x_tensor, weight), bias)\n",
    "\n",
    "\n",
    "\"\"\"\n",
    "DON'T MODIFY ANYTHING IN THIS CELL THAT IS BELOW THIS LINE\n",
    "\"\"\"\n",
    "tests.test_output(output)"
   ]
  },
  {
   "cell_type": "markdown",
   "metadata": {
    "deletable": true,
    "editable": true
   },
   "source": [
    "### Create Convolutional Model\n",
    "Implement the function `conv_net` to create a convolutional neural network model. The function takes in a batch of images, `x`, and outputs logits.  Use the layers you created above to create this model:\n",
    "\n",
    "* Apply 1, 2, or 3 Convolution and Max Pool layers\n",
    "* Apply a Flatten Layer\n",
    "* Apply 1, 2, or 3 Fully Connected Layers\n",
    "* Apply an Output Layer\n",
    "* Return the output\n",
    "* Apply [TensorFlow's Dropout](https://www.tensorflow.org/api_docs/python/tf/nn/dropout) to one or more layers in the model using `keep_prob`. "
   ]
  },
  {
   "cell_type": "code",
   "execution_count": 13,
   "metadata": {
    "collapsed": false,
    "deletable": true,
    "editable": true
   },
   "outputs": [
    {
     "name": "stdout",
     "output_type": "stream",
     "text": [
      "Neural Network Built!\n"
     ]
    }
   ],
   "source": [
    "def conv_net(x, keep_prob):\n",
    "    \"\"\"\n",
    "    Create a convolutional neural network model\n",
    "    : x: Placeholder tensor that holds image data.\n",
    "    : keep_prob: Placeholder tensor that hold dropout keep probability.\n",
    "    : return: Tensor that represents logits\n",
    "    \"\"\"\n",
    "    # TODO: Apply 1, 2, or 3 Convolution and Max Pool layers\n",
    "    #    Play around with different number of outputs, kernel size and stride\n",
    "    # Function Definition from Above:\n",
    "    #    conv2d_maxpool(x_tensor, conv_num_outputs, conv_ksize, conv_strides, pool_ksize, pool_strides)\n",
    "    layer = conv2d_maxpool(x, 16, (3, 3), (1, 1), (3, 3), (2, 2))\n",
    "    layer = conv2d_maxpool(x, 32, (3, 3), (1, 1), (3, 3), (2, 2))\n",
    "    layer = conv2d_maxpool(layer, 64, (3, 3), (1, 1), (3, 3), (2, 2))\n",
    "    layer = conv2d_maxpool(layer, 128, (3, 3), (1, 1), (3, 3), (2, 2))\n",
    "\n",
    "    # TODO: Apply a Flatten Layer\n",
    "    # Function Definition from Above:\n",
    "    #   flatten(x_tensor)\n",
    "    layer = flatten(layer)\n",
    "    \n",
    "    # TODO: Apply 1, 2, or 3 Fully Connected Layers\n",
    "    #    Play around with different number of outputs\n",
    "    # Function Definition from Above:\n",
    "    #   fully_conn(x_tensor, num_outputs)\n",
    "    layer = fully_conn(layer, 800)\n",
    "    layer = tf.nn.dropout(layer, keep_prob)\n",
    "    layer = fully_conn(layer, 800)\n",
    "    \n",
    "    # TODO: Apply an Output Layer\n",
    "    #    Set this to the number of classes\n",
    "    # Function Definition from Above:\n",
    "    #   output(x_tensor, num_outputs)\n",
    "    y = output(layer, 10)\n",
    "    \n",
    "    # TODO: return output\n",
    "    return y\n",
    "\n",
    "\n",
    "\"\"\"\n",
    "DON'T MODIFY ANYTHING IN THIS CELL THAT IS BELOW THIS LINE\n",
    "\"\"\"\n",
    "\n",
    "##############################\n",
    "## Build the Neural Network ##\n",
    "##############################\n",
    "\n",
    "# Remove previous weights, bias, inputs, etc..\n",
    "tf.reset_default_graph()\n",
    "\n",
    "# Inputs\n",
    "x = neural_net_image_input((32, 32, 3))\n",
    "y = neural_net_label_input(10)\n",
    "keep_prob = neural_net_keep_prob_input()\n",
    "\n",
    "# Model\n",
    "logits = conv_net(x, keep_prob)\n",
    "\n",
    "# Name logits Tensor, so that is can be loaded from disk after training\n",
    "logits = tf.identity(logits, name='logits')\n",
    "\n",
    "# Loss and Optimizer\n",
    "cost = tf.reduce_mean(tf.nn.softmax_cross_entropy_with_logits(logits=logits, labels=y))\n",
    "optimizer = tf.train.AdamOptimizer().minimize(cost)\n",
    "\n",
    "# Accuracy\n",
    "correct_pred = tf.equal(tf.argmax(logits, 1), tf.argmax(y, 1))\n",
    "accuracy = tf.reduce_mean(tf.cast(correct_pred, tf.float32), name='accuracy')\n",
    "\n",
    "tests.test_conv_net(conv_net)"
   ]
  },
  {
   "cell_type": "markdown",
   "metadata": {
    "deletable": true,
    "editable": true
   },
   "source": [
    "## Train the Neural Network\n",
    "### Single Optimization\n",
    "Implement the function `train_neural_network` to do a single optimization.  The optimization should use `optimizer` to optimize in `session` with a `feed_dict` of the following:\n",
    "* `x` for image input\n",
    "* `y` for labels\n",
    "* `keep_prob` for keep probability for dropout\n",
    "\n",
    "This function will be called for each batch, so `tf.global_variables_initializer()` has already been called.\n",
    "\n",
    "Note: Nothing needs to be returned. This function is only optimizing the neural network."
   ]
  },
  {
   "cell_type": "code",
   "execution_count": 14,
   "metadata": {
    "collapsed": false,
    "deletable": true,
    "editable": true
   },
   "outputs": [
    {
     "name": "stdout",
     "output_type": "stream",
     "text": [
      "Tests Passed\n"
     ]
    }
   ],
   "source": [
    "def train_neural_network(session, optimizer, keep_probability, feature_batch, label_batch):\n",
    "    \"\"\"\n",
    "    Optimize the session on a batch of images and labels\n",
    "    : session: Current TensorFlow session\n",
    "    : optimizer: TensorFlow optimizer function\n",
    "    : keep_probability: keep probability\n",
    "    : feature_batch: Batch of Numpy image data\n",
    "    : label_batch: Batch of Numpy label data\n",
    "    \"\"\"\n",
    "    session.run(optimizer, feed_dict={\n",
    "        x: feature_batch,\n",
    "        y: label_batch,\n",
    "        keep_prob: keep_probability})\n",
    "\n",
    "\n",
    "\"\"\"\n",
    "DON'T MODIFY ANYTHING IN THIS CELL THAT IS BELOW THIS LINE\n",
    "\"\"\"\n",
    "tests.test_train_nn(train_neural_network)"
   ]
  },
  {
   "cell_type": "markdown",
   "metadata": {
    "deletable": true,
    "editable": true
   },
   "source": [
    "### Show Stats\n",
    "Implement the function `print_stats` to print loss and validation accuracy.  Use the global variables `valid_features` and `valid_labels` to calculate validation accuracy.  Use a keep probability of `1.0` to calculate the loss and validation accuracy."
   ]
  },
  {
   "cell_type": "code",
   "execution_count": 15,
   "metadata": {
    "collapsed": false,
    "deletable": true,
    "editable": true
   },
   "outputs": [],
   "source": [
    "def print_stats(session, feature_batch, label_batch, cost, accuracy):\n",
    "    \"\"\"\n",
    "    Print information about loss and validation accuracy\n",
    "    : session: Current TensorFlow session\n",
    "    : feature_batch: Batch of Numpy image data\n",
    "    : label_batch: Batch of Numpy label data\n",
    "    : cost: TensorFlow cost function\n",
    "    : accuracy: TensorFlow accuracy function\n",
    "    \"\"\"\n",
    "    # Calculate batch loss and accuracy\n",
    "    loss = session.run(cost, feed_dict={\n",
    "        x: feature_batch,\n",
    "        y: label_batch,\n",
    "        keep_prob: 1.})\n",
    "    valid_acc = session.run(accuracy, feed_dict={\n",
    "        x: valid_features,\n",
    "        y: valid_labels,\n",
    "        keep_prob: 1.})\n",
    "\n",
    "    print('Loss: {:>10.4f} Validation Accuracy: {:.6f}'.format(\n",
    "        loss,\n",
    "        valid_acc))"
   ]
  },
  {
   "cell_type": "markdown",
   "metadata": {
    "deletable": true,
    "editable": true
   },
   "source": [
    "### Hyperparameters\n",
    "Tune the following parameters:\n",
    "* Set `epochs` to the number of iterations until the network stops learning or start overfitting\n",
    "* Set `batch_size` to the highest number that your machine has memory for.  Most people set them to common sizes of memory:\n",
    " * 64\n",
    " * 128\n",
    " * 256\n",
    " * ...\n",
    "* Set `keep_probability` to the probability of keeping a node using dropout"
   ]
  },
  {
   "cell_type": "code",
   "execution_count": 16,
   "metadata": {
    "collapsed": true,
    "deletable": true,
    "editable": true
   },
   "outputs": [],
   "source": [
    "# TODO: Tune Parameters\n",
    "epochs = 50\n",
    "batch_size = 64\n",
    "keep_probability = 0.6"
   ]
  },
  {
   "cell_type": "markdown",
   "metadata": {
    "deletable": true,
    "editable": true
   },
   "source": [
    "### Train on a Single CIFAR-10 Batch\n",
    "Instead of training the neural network on all the CIFAR-10 batches of data, let's use a single batch. This should save time while you iterate on the model to get a better accuracy.  Once the final validation accuracy is 50% or greater, run the model on all the data in the next section."
   ]
  },
  {
   "cell_type": "code",
   "execution_count": 60,
   "metadata": {
    "collapsed": false,
    "deletable": true,
    "editable": true
   },
   "outputs": [
    {
     "name": "stdout",
     "output_type": "stream",
     "text": [
      "Checking the Training on a Single Batch...\n",
      "Epoch  1, CIFAR-10 Batch 1:  Loss:     1.8019 Validation Accuracy: 0.400600\n",
      "Epoch  2, CIFAR-10 Batch 1:  Loss:     1.4648 Validation Accuracy: 0.482800\n",
      "Epoch  3, CIFAR-10 Batch 1:  Loss:     1.1940 Validation Accuracy: 0.522200\n",
      "Epoch  4, CIFAR-10 Batch 1:  Loss:     1.0817 Validation Accuracy: 0.530600\n",
      "Epoch  5, CIFAR-10 Batch 1:  Loss:     0.8303 Validation Accuracy: 0.551200\n",
      "Epoch  6, CIFAR-10 Batch 1:  Loss:     0.7000 Validation Accuracy: 0.584000\n",
      "Epoch  7, CIFAR-10 Batch 1:  Loss:     0.6460 Validation Accuracy: 0.582000\n",
      "Epoch  8, CIFAR-10 Batch 1:  Loss:     0.5363 Validation Accuracy: 0.582000\n",
      "Epoch  9, CIFAR-10 Batch 1:  Loss:     0.3675 Validation Accuracy: 0.583600\n",
      "Epoch 10, CIFAR-10 Batch 1:  Loss:     0.2975 Validation Accuracy: 0.590600\n",
      "Epoch 11, CIFAR-10 Batch 1:  Loss:     0.2536 Validation Accuracy: 0.586400\n",
      "Epoch 12, CIFAR-10 Batch 1:  Loss:     0.1867 Validation Accuracy: 0.590400\n",
      "Epoch 13, CIFAR-10 Batch 1:  Loss:     0.1076 Validation Accuracy: 0.575000\n",
      "Epoch 14, CIFAR-10 Batch 1:  Loss:     0.0888 Validation Accuracy: 0.598400\n",
      "Epoch 15, CIFAR-10 Batch 1:  Loss:     0.1054 Validation Accuracy: 0.597200\n",
      "Epoch 16, CIFAR-10 Batch 1:  Loss:     0.0671 Validation Accuracy: 0.590600\n",
      "Epoch 17, CIFAR-10 Batch 1:  Loss:     0.1660 Validation Accuracy: 0.591400\n",
      "Epoch 18, CIFAR-10 Batch 1:  Loss:     0.0355 Validation Accuracy: 0.596400\n",
      "Epoch 19, CIFAR-10 Batch 1:  Loss:     0.0555 Validation Accuracy: 0.596000\n",
      "Epoch 20, CIFAR-10 Batch 1:  Loss:     0.0540 Validation Accuracy: 0.598000\n",
      "Epoch 21, CIFAR-10 Batch 1:  Loss:     0.0444 Validation Accuracy: 0.600000\n",
      "Epoch 22, CIFAR-10 Batch 1:  Loss:     0.0328 Validation Accuracy: 0.597200\n",
      "Epoch 23, CIFAR-10 Batch 1:  Loss:     0.0549 Validation Accuracy: 0.607000\n",
      "Epoch 24, CIFAR-10 Batch 1:  Loss:     0.0227 Validation Accuracy: 0.588000\n",
      "Epoch 25, CIFAR-10 Batch 1:  Loss:     0.0292 Validation Accuracy: 0.599400\n",
      "Epoch 26, CIFAR-10 Batch 1:  Loss:     0.0268 Validation Accuracy: 0.614800\n",
      "Epoch 27, CIFAR-10 Batch 1:  Loss:     0.0050 Validation Accuracy: 0.608600\n",
      "Epoch 28, CIFAR-10 Batch 1:  Loss:     0.0140 Validation Accuracy: 0.604000\n",
      "Epoch 29, CIFAR-10 Batch 1:  Loss:     0.0151 Validation Accuracy: 0.619800\n",
      "Epoch 30, CIFAR-10 Batch 1:  Loss:     0.0068 Validation Accuracy: 0.604800\n"
     ]
    }
   ],
   "source": [
    "\"\"\"\n",
    "DON'T MODIFY ANYTHING IN THIS CELL\n",
    "\"\"\"\n",
    "print('Checking the Training on a Single Batch...')\n",
    "with tf.Session() as sess:\n",
    "    # Initializing the variables\n",
    "    sess.run(tf.global_variables_initializer())\n",
    "    \n",
    "    # Training cycle\n",
    "    for epoch in range(epochs):\n",
    "        batch_i = 1\n",
    "        for batch_features, batch_labels in helper.load_preprocess_training_batch(batch_i, batch_size):\n",
    "            train_neural_network(sess, optimizer, keep_probability, batch_features, batch_labels)\n",
    "        print('Epoch {:>2}, CIFAR-10 Batch {}:  '.format(epoch + 1, batch_i), end='')\n",
    "        print_stats(sess, batch_features, batch_labels, cost, accuracy)"
   ]
  },
  {
   "cell_type": "markdown",
   "metadata": {
    "deletable": true,
    "editable": true
   },
   "source": [
    "### Fully Train the Model\n",
    "Now that you got a good accuracy with a single CIFAR-10 batch, try it with all five batches."
   ]
  },
  {
   "cell_type": "code",
   "execution_count": 17,
   "metadata": {
    "collapsed": false,
    "deletable": true,
    "editable": true
   },
   "outputs": [
    {
     "name": "stdout",
     "output_type": "stream",
     "text": [
      "Training...\n",
      "Epoch  1, CIFAR-10 Batch 1:  Loss:     1.6394 Validation Accuracy: 0.411200\n",
      "Epoch  1, CIFAR-10 Batch 2:  Loss:     1.4774 Validation Accuracy: 0.484600\n",
      "Epoch  1, CIFAR-10 Batch 3:  Loss:     0.9993 Validation Accuracy: 0.536600\n",
      "Epoch  1, CIFAR-10 Batch 4:  Loss:     1.1039 Validation Accuracy: 0.557800\n",
      "Epoch  1, CIFAR-10 Batch 5:  Loss:     1.0977 Validation Accuracy: 0.595400\n",
      "Epoch  2, CIFAR-10 Batch 1:  Loss:     1.0765 Validation Accuracy: 0.606600\n",
      "Epoch  2, CIFAR-10 Batch 2:  Loss:     1.0248 Validation Accuracy: 0.608200\n",
      "Epoch  2, CIFAR-10 Batch 3:  Loss:     0.7964 Validation Accuracy: 0.616200\n",
      "Epoch  2, CIFAR-10 Batch 4:  Loss:     0.8301 Validation Accuracy: 0.627600\n",
      "Epoch  2, CIFAR-10 Batch 5:  Loss:     0.8736 Validation Accuracy: 0.646800\n",
      "Epoch  3, CIFAR-10 Batch 1:  Loss:     0.9447 Validation Accuracy: 0.654400\n",
      "Epoch  3, CIFAR-10 Batch 2:  Loss:     0.7321 Validation Accuracy: 0.667200\n",
      "Epoch  3, CIFAR-10 Batch 3:  Loss:     0.6384 Validation Accuracy: 0.671400\n",
      "Epoch  3, CIFAR-10 Batch 4:  Loss:     0.6577 Validation Accuracy: 0.673400\n",
      "Epoch  3, CIFAR-10 Batch 5:  Loss:     0.7055 Validation Accuracy: 0.682600\n",
      "Epoch  4, CIFAR-10 Batch 1:  Loss:     0.7612 Validation Accuracy: 0.693400\n",
      "Epoch  4, CIFAR-10 Batch 2:  Loss:     0.5708 Validation Accuracy: 0.698200\n",
      "Epoch  4, CIFAR-10 Batch 3:  Loss:     0.3982 Validation Accuracy: 0.683600\n",
      "Epoch  4, CIFAR-10 Batch 4:  Loss:     0.4573 Validation Accuracy: 0.700600\n",
      "Epoch  4, CIFAR-10 Batch 5:  Loss:     0.5352 Validation Accuracy: 0.688800\n",
      "Epoch  5, CIFAR-10 Batch 1:  Loss:     0.6450 Validation Accuracy: 0.697600\n",
      "Epoch  5, CIFAR-10 Batch 2:  Loss:     0.4485 Validation Accuracy: 0.689400\n",
      "Epoch  5, CIFAR-10 Batch 3:  Loss:     0.3643 Validation Accuracy: 0.709600\n",
      "Epoch  5, CIFAR-10 Batch 4:  Loss:     0.4288 Validation Accuracy: 0.719800\n",
      "Epoch  5, CIFAR-10 Batch 5:  Loss:     0.4312 Validation Accuracy: 0.718200\n",
      "Epoch  6, CIFAR-10 Batch 1:  Loss:     0.5637 Validation Accuracy: 0.716400\n",
      "Epoch  6, CIFAR-10 Batch 2:  Loss:     0.3870 Validation Accuracy: 0.722800\n",
      "Epoch  6, CIFAR-10 Batch 3:  Loss:     0.2465 Validation Accuracy: 0.723200\n",
      "Epoch  6, CIFAR-10 Batch 4:  Loss:     0.3490 Validation Accuracy: 0.720800\n",
      "Epoch  6, CIFAR-10 Batch 5:  Loss:     0.4169 Validation Accuracy: 0.707200\n",
      "Epoch  7, CIFAR-10 Batch 1:  Loss:     0.5574 Validation Accuracy: 0.710200\n",
      "Epoch  7, CIFAR-10 Batch 2:  Loss:     0.2005 Validation Accuracy: 0.718800\n",
      "Epoch  7, CIFAR-10 Batch 3:  Loss:     0.2159 Validation Accuracy: 0.726200\n",
      "Epoch  7, CIFAR-10 Batch 4:  Loss:     0.2430 Validation Accuracy: 0.745800\n",
      "Epoch  7, CIFAR-10 Batch 5:  Loss:     0.3451 Validation Accuracy: 0.706800\n",
      "Epoch  8, CIFAR-10 Batch 1:  Loss:     0.4424 Validation Accuracy: 0.723800\n",
      "Epoch  8, CIFAR-10 Batch 2:  Loss:     0.2053 Validation Accuracy: 0.737000\n",
      "Epoch  8, CIFAR-10 Batch 3:  Loss:     0.2183 Validation Accuracy: 0.721000\n",
      "Epoch  8, CIFAR-10 Batch 4:  Loss:     0.2788 Validation Accuracy: 0.724800\n",
      "Epoch  8, CIFAR-10 Batch 5:  Loss:     0.2304 Validation Accuracy: 0.713800\n",
      "Epoch  9, CIFAR-10 Batch 1:  Loss:     0.3475 Validation Accuracy: 0.725000\n",
      "Epoch  9, CIFAR-10 Batch 2:  Loss:     0.2373 Validation Accuracy: 0.734000\n",
      "Epoch  9, CIFAR-10 Batch 3:  Loss:     0.1236 Validation Accuracy: 0.728600\n",
      "Epoch  9, CIFAR-10 Batch 4:  Loss:     0.1632 Validation Accuracy: 0.717600\n",
      "Epoch  9, CIFAR-10 Batch 5:  Loss:     0.2253 Validation Accuracy: 0.726800\n",
      "Epoch 10, CIFAR-10 Batch 1:  Loss:     0.3136 Validation Accuracy: 0.718800\n",
      "Epoch 10, CIFAR-10 Batch 2:  Loss:     0.1086 Validation Accuracy: 0.722200\n",
      "Epoch 10, CIFAR-10 Batch 3:  Loss:     0.1845 Validation Accuracy: 0.740200\n",
      "Epoch 10, CIFAR-10 Batch 4:  Loss:     0.1092 Validation Accuracy: 0.732400\n",
      "Epoch 10, CIFAR-10 Batch 5:  Loss:     0.1113 Validation Accuracy: 0.726400\n",
      "Epoch 11, CIFAR-10 Batch 1:  Loss:     0.1960 Validation Accuracy: 0.728000\n",
      "Epoch 11, CIFAR-10 Batch 2:  Loss:     0.0999 Validation Accuracy: 0.729000\n",
      "Epoch 11, CIFAR-10 Batch 3:  Loss:     0.1214 Validation Accuracy: 0.732600\n",
      "Epoch 11, CIFAR-10 Batch 4:  Loss:     0.1195 Validation Accuracy: 0.712800\n",
      "Epoch 11, CIFAR-10 Batch 5:  Loss:     0.1503 Validation Accuracy: 0.724200\n",
      "Epoch 12, CIFAR-10 Batch 1:  Loss:     0.1515 Validation Accuracy: 0.719600\n",
      "Epoch 12, CIFAR-10 Batch 2:  Loss:     0.0828 Validation Accuracy: 0.730800\n",
      "Epoch 12, CIFAR-10 Batch 3:  Loss:     0.0480 Validation Accuracy: 0.745800\n",
      "Epoch 12, CIFAR-10 Batch 4:  Loss:     0.0796 Validation Accuracy: 0.726600\n",
      "Epoch 12, CIFAR-10 Batch 5:  Loss:     0.1372 Validation Accuracy: 0.729200\n",
      "Epoch 13, CIFAR-10 Batch 1:  Loss:     0.1752 Validation Accuracy: 0.729600\n",
      "Epoch 13, CIFAR-10 Batch 2:  Loss:     0.0547 Validation Accuracy: 0.733200\n",
      "Epoch 13, CIFAR-10 Batch 3:  Loss:     0.0505 Validation Accuracy: 0.717000\n",
      "Epoch 13, CIFAR-10 Batch 4:  Loss:     0.0692 Validation Accuracy: 0.729800\n",
      "Epoch 13, CIFAR-10 Batch 5:  Loss:     0.0934 Validation Accuracy: 0.736400\n",
      "Epoch 14, CIFAR-10 Batch 1:  Loss:     0.1730 Validation Accuracy: 0.734400\n",
      "Epoch 14, CIFAR-10 Batch 2:  Loss:     0.0846 Validation Accuracy: 0.741800\n",
      "Epoch 14, CIFAR-10 Batch 3:  Loss:     0.0819 Validation Accuracy: 0.740200\n",
      "Epoch 14, CIFAR-10 Batch 4:  Loss:     0.0637 Validation Accuracy: 0.742600\n",
      "Epoch 14, CIFAR-10 Batch 5:  Loss:     0.0909 Validation Accuracy: 0.734000\n",
      "Epoch 15, CIFAR-10 Batch 1:  Loss:     0.0824 Validation Accuracy: 0.734200\n",
      "Epoch 15, CIFAR-10 Batch 2:  Loss:     0.0467 Validation Accuracy: 0.747800\n",
      "Epoch 15, CIFAR-10 Batch 3:  Loss:     0.0666 Validation Accuracy: 0.730400\n",
      "Epoch 15, CIFAR-10 Batch 4:  Loss:     0.0801 Validation Accuracy: 0.744400\n",
      "Epoch 15, CIFAR-10 Batch 5:  Loss:     0.1179 Validation Accuracy: 0.736800\n",
      "Epoch 16, CIFAR-10 Batch 1:  Loss:     0.0548 Validation Accuracy: 0.735000\n",
      "Epoch 16, CIFAR-10 Batch 2:  Loss:     0.0319 Validation Accuracy: 0.718600\n",
      "Epoch 16, CIFAR-10 Batch 3:  Loss:     0.0241 Validation Accuracy: 0.734000\n",
      "Epoch 16, CIFAR-10 Batch 4:  Loss:     0.0310 Validation Accuracy: 0.749000\n",
      "Epoch 16, CIFAR-10 Batch 5:  Loss:     0.0500 Validation Accuracy: 0.731400\n",
      "Epoch 17, CIFAR-10 Batch 1:  Loss:     0.0605 Validation Accuracy: 0.745200\n",
      "Epoch 17, CIFAR-10 Batch 2:  Loss:     0.0309 Validation Accuracy: 0.733800\n",
      "Epoch 17, CIFAR-10 Batch 3:  Loss:     0.0190 Validation Accuracy: 0.735000\n",
      "Epoch 17, CIFAR-10 Batch 4:  Loss:     0.0487 Validation Accuracy: 0.737000\n",
      "Epoch 17, CIFAR-10 Batch 5:  Loss:     0.0370 Validation Accuracy: 0.742000\n",
      "Epoch 18, CIFAR-10 Batch 1:  Loss:     0.0797 Validation Accuracy: 0.751400\n",
      "Epoch 18, CIFAR-10 Batch 2:  Loss:     0.0278 Validation Accuracy: 0.748200\n",
      "Epoch 18, CIFAR-10 Batch 3:  Loss:     0.0329 Validation Accuracy: 0.733200\n",
      "Epoch 18, CIFAR-10 Batch 4:  Loss:     0.0711 Validation Accuracy: 0.746800\n",
      "Epoch 18, CIFAR-10 Batch 5:  Loss:     0.0538 Validation Accuracy: 0.730200\n",
      "Epoch 19, CIFAR-10 Batch 1:  Loss:     0.0742 Validation Accuracy: 0.741600\n",
      "Epoch 19, CIFAR-10 Batch 2:  Loss:     0.0204 Validation Accuracy: 0.733200\n",
      "Epoch 19, CIFAR-10 Batch 3:  Loss:     0.0310 Validation Accuracy: 0.737200\n",
      "Epoch 19, CIFAR-10 Batch 4:  Loss:     0.0833 Validation Accuracy: 0.746800\n",
      "Epoch 19, CIFAR-10 Batch 5:  Loss:     0.0304 Validation Accuracy: 0.732800\n",
      "Epoch 20, CIFAR-10 Batch 1:  Loss:     0.0369 Validation Accuracy: 0.736200\n",
      "Epoch 20, CIFAR-10 Batch 2:  Loss:     0.0343 Validation Accuracy: 0.739400\n",
      "Epoch 20, CIFAR-10 Batch 3:  Loss:     0.0106 Validation Accuracy: 0.739200\n",
      "Epoch 20, CIFAR-10 Batch 4:  Loss:     0.0321 Validation Accuracy: 0.747600\n",
      "Epoch 20, CIFAR-10 Batch 5:  Loss:     0.0361 Validation Accuracy: 0.742600\n",
      "Epoch 21, CIFAR-10 Batch 1:  Loss:     0.0331 Validation Accuracy: 0.734200\n",
      "Epoch 21, CIFAR-10 Batch 2:  Loss:     0.0136 Validation Accuracy: 0.741400\n",
      "Epoch 21, CIFAR-10 Batch 3:  Loss:     0.0107 Validation Accuracy: 0.744200\n",
      "Epoch 21, CIFAR-10 Batch 4:  Loss:     0.0344 Validation Accuracy: 0.731400\n",
      "Epoch 21, CIFAR-10 Batch 5:  Loss:     0.0231 Validation Accuracy: 0.740800\n",
      "Epoch 22, CIFAR-10 Batch 1:  Loss:     0.0125 Validation Accuracy: 0.748200\n",
      "Epoch 22, CIFAR-10 Batch 2:  Loss:     0.0239 Validation Accuracy: 0.735000\n",
      "Epoch 22, CIFAR-10 Batch 3:  Loss:     0.0142 Validation Accuracy: 0.743400\n",
      "Epoch 22, CIFAR-10 Batch 4:  Loss:     0.0331 Validation Accuracy: 0.739000\n",
      "Epoch 22, CIFAR-10 Batch 5:  Loss:     0.0594 Validation Accuracy: 0.737600\n",
      "Epoch 23, CIFAR-10 Batch 1:  Loss:     0.0259 Validation Accuracy: 0.755800\n",
      "Epoch 23, CIFAR-10 Batch 2:  Loss:     0.0136 Validation Accuracy: 0.725400\n",
      "Epoch 23, CIFAR-10 Batch 3:  Loss:     0.0159 Validation Accuracy: 0.755800\n",
      "Epoch 23, CIFAR-10 Batch 4:  Loss:     0.0172 Validation Accuracy: 0.740400\n",
      "Epoch 23, CIFAR-10 Batch 5:  Loss:     0.0255 Validation Accuracy: 0.754000\n",
      "Epoch 24, CIFAR-10 Batch 1:  Loss:     0.0514 Validation Accuracy: 0.753000\n",
      "Epoch 24, CIFAR-10 Batch 2:  Loss:     0.0073 Validation Accuracy: 0.748400\n",
      "Epoch 24, CIFAR-10 Batch 3:  Loss:     0.0165 Validation Accuracy: 0.745200\n",
      "Epoch 24, CIFAR-10 Batch 4:  Loss:     0.0350 Validation Accuracy: 0.738400\n",
      "Epoch 24, CIFAR-10 Batch 5:  Loss:     0.0120 Validation Accuracy: 0.748800\n",
      "Epoch 25, CIFAR-10 Batch 1:  Loss:     0.0270 Validation Accuracy: 0.741000\n",
      "Epoch 25, CIFAR-10 Batch 2:  Loss:     0.0123 Validation Accuracy: 0.742800\n",
      "Epoch 25, CIFAR-10 Batch 3:  Loss:     0.0255 Validation Accuracy: 0.751000\n",
      "Epoch 25, CIFAR-10 Batch 4:  Loss:     0.0236 Validation Accuracy: 0.750200\n",
      "Epoch 25, CIFAR-10 Batch 5:  Loss:     0.0129 Validation Accuracy: 0.737000\n",
      "Epoch 26, CIFAR-10 Batch 1:  Loss:     0.0264 Validation Accuracy: 0.752200\n",
      "Epoch 26, CIFAR-10 Batch 2:  Loss:     0.0173 Validation Accuracy: 0.750200\n",
      "Epoch 26, CIFAR-10 Batch 3:  Loss:     0.0382 Validation Accuracy: 0.754200\n",
      "Epoch 26, CIFAR-10 Batch 4:  Loss:     0.0277 Validation Accuracy: 0.734200\n",
      "Epoch 26, CIFAR-10 Batch 5:  Loss:     0.0220 Validation Accuracy: 0.744800\n",
      "Epoch 27, CIFAR-10 Batch 1:  Loss:     0.0270 Validation Accuracy: 0.751200\n",
      "Epoch 27, CIFAR-10 Batch 2:  Loss:     0.0173 Validation Accuracy: 0.746800\n",
      "Epoch 27, CIFAR-10 Batch 3:  Loss:     0.0059 Validation Accuracy: 0.749000\n",
      "Epoch 27, CIFAR-10 Batch 4:  Loss:     0.0169 Validation Accuracy: 0.743200\n",
      "Epoch 27, CIFAR-10 Batch 5:  Loss:     0.0307 Validation Accuracy: 0.751600\n",
      "Epoch 28, CIFAR-10 Batch 1:  Loss:     0.0286 Validation Accuracy: 0.745600\n",
      "Epoch 28, CIFAR-10 Batch 2:  Loss:     0.0155 Validation Accuracy: 0.746400\n",
      "Epoch 28, CIFAR-10 Batch 3:  Loss:     0.0084 Validation Accuracy: 0.757400\n",
      "Epoch 28, CIFAR-10 Batch 4:  Loss:     0.0681 Validation Accuracy: 0.729800\n",
      "Epoch 28, CIFAR-10 Batch 5:  Loss:     0.0540 Validation Accuracy: 0.754600\n",
      "Epoch 29, CIFAR-10 Batch 1:  Loss:     0.0293 Validation Accuracy: 0.747200\n",
      "Epoch 29, CIFAR-10 Batch 2:  Loss:     0.0195 Validation Accuracy: 0.743400\n",
      "Epoch 29, CIFAR-10 Batch 3:  Loss:     0.0197 Validation Accuracy: 0.747800\n",
      "Epoch 29, CIFAR-10 Batch 4:  Loss:     0.0303 Validation Accuracy: 0.740400\n",
      "Epoch 29, CIFAR-10 Batch 5:  Loss:     0.0076 Validation Accuracy: 0.744200\n",
      "Epoch 30, CIFAR-10 Batch 1:  Loss:     0.0127 Validation Accuracy: 0.762000\n",
      "Epoch 30, CIFAR-10 Batch 2:  Loss:     0.0087 Validation Accuracy: 0.749200\n",
      "Epoch 30, CIFAR-10 Batch 3:  Loss:     0.0283 Validation Accuracy: 0.725400\n",
      "Epoch 30, CIFAR-10 Batch 4:  Loss:     0.0204 Validation Accuracy: 0.731800\n",
      "Epoch 30, CIFAR-10 Batch 5:  Loss:     0.0147 Validation Accuracy: 0.740400\n",
      "Epoch 31, CIFAR-10 Batch 1:  Loss:     0.0516 Validation Accuracy: 0.740800\n",
      "Epoch 31, CIFAR-10 Batch 2:  Loss:     0.0133 Validation Accuracy: 0.749600\n",
      "Epoch 31, CIFAR-10 Batch 3:  Loss:     0.0165 Validation Accuracy: 0.754400\n",
      "Epoch 31, CIFAR-10 Batch 4:  Loss:     0.0056 Validation Accuracy: 0.731800\n",
      "Epoch 31, CIFAR-10 Batch 5:  Loss:     0.0065 Validation Accuracy: 0.752000\n",
      "Epoch 32, CIFAR-10 Batch 1:  Loss:     0.0407 Validation Accuracy: 0.734400\n",
      "Epoch 32, CIFAR-10 Batch 2:  Loss:     0.0118 Validation Accuracy: 0.749200\n",
      "Epoch 32, CIFAR-10 Batch 3:  Loss:     0.0166 Validation Accuracy: 0.756000\n",
      "Epoch 32, CIFAR-10 Batch 4:  Loss:     0.0150 Validation Accuracy: 0.741000\n",
      "Epoch 32, CIFAR-10 Batch 5:  Loss:     0.0106 Validation Accuracy: 0.751200\n",
      "Epoch 33, CIFAR-10 Batch 1:  Loss:     0.0322 Validation Accuracy: 0.749800\n",
      "Epoch 33, CIFAR-10 Batch 2:  Loss:     0.0036 Validation Accuracy: 0.744600\n",
      "Epoch 33, CIFAR-10 Batch 3:  Loss:     0.0053 Validation Accuracy: 0.762400\n",
      "Epoch 33, CIFAR-10 Batch 4:  Loss:     0.0228 Validation Accuracy: 0.747600\n",
      "Epoch 33, CIFAR-10 Batch 5:  Loss:     0.0407 Validation Accuracy: 0.757600\n",
      "Epoch 34, CIFAR-10 Batch 1:  Loss:     0.0955 Validation Accuracy: 0.735000\n",
      "Epoch 34, CIFAR-10 Batch 2:  Loss:     0.0267 Validation Accuracy: 0.757000\n",
      "Epoch 34, CIFAR-10 Batch 3:  Loss:     0.0041 Validation Accuracy: 0.757800\n",
      "Epoch 34, CIFAR-10 Batch 4:  Loss:     0.0139 Validation Accuracy: 0.748200\n",
      "Epoch 34, CIFAR-10 Batch 5:  Loss:     0.0139 Validation Accuracy: 0.755400\n",
      "Epoch 35, CIFAR-10 Batch 1:  Loss:     0.0354 Validation Accuracy: 0.754000\n",
      "Epoch 35, CIFAR-10 Batch 2:  Loss:     0.0094 Validation Accuracy: 0.748400\n",
      "Epoch 35, CIFAR-10 Batch 3:  Loss:     0.0078 Validation Accuracy: 0.752400\n",
      "Epoch 35, CIFAR-10 Batch 4:  Loss:     0.0060 Validation Accuracy: 0.755000\n",
      "Epoch 35, CIFAR-10 Batch 5:  Loss:     0.0180 Validation Accuracy: 0.760200\n",
      "Epoch 36, CIFAR-10 Batch 1:  Loss:     0.0400 Validation Accuracy: 0.750400\n",
      "Epoch 36, CIFAR-10 Batch 2:  Loss:     0.0166 Validation Accuracy: 0.751800\n",
      "Epoch 36, CIFAR-10 Batch 3:  Loss:     0.0015 Validation Accuracy: 0.751600\n",
      "Epoch 36, CIFAR-10 Batch 4:  Loss:     0.0815 Validation Accuracy: 0.743400\n",
      "Epoch 36, CIFAR-10 Batch 5:  Loss:     0.0135 Validation Accuracy: 0.750600\n",
      "Epoch 37, CIFAR-10 Batch 1:  Loss:     0.0091 Validation Accuracy: 0.745000\n",
      "Epoch 37, CIFAR-10 Batch 2:  Loss:     0.0190 Validation Accuracy: 0.750600\n",
      "Epoch 37, CIFAR-10 Batch 3:  Loss:     0.0123 Validation Accuracy: 0.755200\n",
      "Epoch 37, CIFAR-10 Batch 4:  Loss:     0.0101 Validation Accuracy: 0.743800\n",
      "Epoch 37, CIFAR-10 Batch 5:  Loss:     0.0160 Validation Accuracy: 0.754600\n",
      "Epoch 38, CIFAR-10 Batch 1:  Loss:     0.0111 Validation Accuracy: 0.754200\n",
      "Epoch 38, CIFAR-10 Batch 2:  Loss:     0.0154 Validation Accuracy: 0.748400\n",
      "Epoch 38, CIFAR-10 Batch 3:  Loss:     0.0033 Validation Accuracy: 0.751200\n",
      "Epoch 38, CIFAR-10 Batch 4:  Loss:     0.0042 Validation Accuracy: 0.739400\n",
      "Epoch 38, CIFAR-10 Batch 5:  Loss:     0.0100 Validation Accuracy: 0.744000\n",
      "Epoch 39, CIFAR-10 Batch 1:  Loss:     0.0125 Validation Accuracy: 0.745600\n",
      "Epoch 39, CIFAR-10 Batch 2:  Loss:     0.0254 Validation Accuracy: 0.740400\n",
      "Epoch 39, CIFAR-10 Batch 3:  Loss:     0.0194 Validation Accuracy: 0.755000\n",
      "Epoch 39, CIFAR-10 Batch 4:  Loss:     0.0030 Validation Accuracy: 0.748200\n",
      "Epoch 39, CIFAR-10 Batch 5:  Loss:     0.0104 Validation Accuracy: 0.753600\n",
      "Epoch 40, CIFAR-10 Batch 1:  Loss:     0.0082 Validation Accuracy: 0.765800\n",
      "Epoch 40, CIFAR-10 Batch 2:  Loss:     0.0084 Validation Accuracy: 0.742600\n",
      "Epoch 40, CIFAR-10 Batch 3:  Loss:     0.0020 Validation Accuracy: 0.753400\n",
      "Epoch 40, CIFAR-10 Batch 4:  Loss:     0.0079 Validation Accuracy: 0.747800\n",
      "Epoch 40, CIFAR-10 Batch 5:  Loss:     0.0233 Validation Accuracy: 0.723800\n",
      "Epoch 41, CIFAR-10 Batch 1:  Loss:     0.0067 Validation Accuracy: 0.736800\n",
      "Epoch 41, CIFAR-10 Batch 2:  Loss:     0.0021 Validation Accuracy: 0.742400\n",
      "Epoch 41, CIFAR-10 Batch 3:  Loss:     0.0047 Validation Accuracy: 0.754400\n",
      "Epoch 41, CIFAR-10 Batch 4:  Loss:     0.0064 Validation Accuracy: 0.743200\n",
      "Epoch 41, CIFAR-10 Batch 5:  Loss:     0.0117 Validation Accuracy: 0.745400\n",
      "Epoch 42, CIFAR-10 Batch 1:  Loss:     0.0136 Validation Accuracy: 0.755800\n",
      "Epoch 42, CIFAR-10 Batch 2:  Loss:     0.0042 Validation Accuracy: 0.758800\n",
      "Epoch 42, CIFAR-10 Batch 3:  Loss:     0.0028 Validation Accuracy: 0.764600\n",
      "Epoch 42, CIFAR-10 Batch 4:  Loss:     0.0012 Validation Accuracy: 0.756200\n",
      "Epoch 42, CIFAR-10 Batch 5:  Loss:     0.0058 Validation Accuracy: 0.747600\n",
      "Epoch 43, CIFAR-10 Batch 1:  Loss:     0.0087 Validation Accuracy: 0.747000\n",
      "Epoch 43, CIFAR-10 Batch 2:  Loss:     0.0017 Validation Accuracy: 0.761000\n",
      "Epoch 43, CIFAR-10 Batch 3:  Loss:     0.0038 Validation Accuracy: 0.756200\n",
      "Epoch 43, CIFAR-10 Batch 4:  Loss:     0.0068 Validation Accuracy: 0.752600\n",
      "Epoch 43, CIFAR-10 Batch 5:  Loss:     0.0204 Validation Accuracy: 0.743800\n",
      "Epoch 44, CIFAR-10 Batch 1:  Loss:     0.0078 Validation Accuracy: 0.755400\n",
      "Epoch 44, CIFAR-10 Batch 2:  Loss:     0.0100 Validation Accuracy: 0.753000\n",
      "Epoch 44, CIFAR-10 Batch 3:  Loss:     0.0040 Validation Accuracy: 0.747800\n",
      "Epoch 44, CIFAR-10 Batch 4:  Loss:     0.0102 Validation Accuracy: 0.748600\n",
      "Epoch 44, CIFAR-10 Batch 5:  Loss:     0.0088 Validation Accuracy: 0.751600\n",
      "Epoch 45, CIFAR-10 Batch 1:  Loss:     0.0237 Validation Accuracy: 0.752600\n",
      "Epoch 45, CIFAR-10 Batch 2:  Loss:     0.0047 Validation Accuracy: 0.748400\n",
      "Epoch 45, CIFAR-10 Batch 3:  Loss:     0.0055 Validation Accuracy: 0.752000\n",
      "Epoch 45, CIFAR-10 Batch 4:  Loss:     0.0137 Validation Accuracy: 0.748200\n",
      "Epoch 45, CIFAR-10 Batch 5:  Loss:     0.0178 Validation Accuracy: 0.747400\n",
      "Epoch 46, CIFAR-10 Batch 1:  Loss:     0.0291 Validation Accuracy: 0.745400\n",
      "Epoch 46, CIFAR-10 Batch 2:  Loss:     0.0043 Validation Accuracy: 0.752200\n",
      "Epoch 46, CIFAR-10 Batch 3:  Loss:     0.0018 Validation Accuracy: 0.755600\n",
      "Epoch 46, CIFAR-10 Batch 4:  Loss:     0.0226 Validation Accuracy: 0.738000\n",
      "Epoch 46, CIFAR-10 Batch 5:  Loss:     0.0073 Validation Accuracy: 0.757800\n",
      "Epoch 47, CIFAR-10 Batch 1:  Loss:     0.0205 Validation Accuracy: 0.743600\n",
      "Epoch 47, CIFAR-10 Batch 2:  Loss:     0.0122 Validation Accuracy: 0.756600\n",
      "Epoch 47, CIFAR-10 Batch 3:  Loss:     0.0056 Validation Accuracy: 0.762200\n",
      "Epoch 47, CIFAR-10 Batch 4:  Loss:     0.0049 Validation Accuracy: 0.737800\n",
      "Epoch 47, CIFAR-10 Batch 5:  Loss:     0.0044 Validation Accuracy: 0.745200\n",
      "Epoch 48, CIFAR-10 Batch 1:  Loss:     0.0125 Validation Accuracy: 0.739800\n",
      "Epoch 48, CIFAR-10 Batch 2:  Loss:     0.0063 Validation Accuracy: 0.752200\n",
      "Epoch 48, CIFAR-10 Batch 3:  Loss:     0.0060 Validation Accuracy: 0.761400\n",
      "Epoch 48, CIFAR-10 Batch 4:  Loss:     0.0092 Validation Accuracy: 0.745200\n",
      "Epoch 48, CIFAR-10 Batch 5:  Loss:     0.0053 Validation Accuracy: 0.756400\n",
      "Epoch 49, CIFAR-10 Batch 1:  Loss:     0.0174 Validation Accuracy: 0.744600\n",
      "Epoch 49, CIFAR-10 Batch 2:  Loss:     0.0081 Validation Accuracy: 0.755200\n",
      "Epoch 49, CIFAR-10 Batch 3:  Loss:     0.0018 Validation Accuracy: 0.756400\n",
      "Epoch 49, CIFAR-10 Batch 4:  Loss:     0.0219 Validation Accuracy: 0.756800\n",
      "Epoch 49, CIFAR-10 Batch 5:  Loss:     0.0053 Validation Accuracy: 0.755200\n",
      "Epoch 50, CIFAR-10 Batch 1:  Loss:     0.0072 Validation Accuracy: 0.754600\n",
      "Epoch 50, CIFAR-10 Batch 2:  Loss:     0.0055 Validation Accuracy: 0.758200\n",
      "Epoch 50, CIFAR-10 Batch 3:  Loss:     0.0045 Validation Accuracy: 0.761600\n",
      "Epoch 50, CIFAR-10 Batch 4:  Loss:     0.0089 Validation Accuracy: 0.747000\n",
      "Epoch 50, CIFAR-10 Batch 5:  Loss:     0.0016 Validation Accuracy: 0.753800\n"
     ]
    }
   ],
   "source": [
    "\"\"\"\n",
    "DON'T MODIFY ANYTHING IN THIS CELL\n",
    "\"\"\"\n",
    "save_model_path = './image_classification'\n",
    "\n",
    "print('Training...')\n",
    "with tf.Session() as sess:\n",
    "    # Initializing the variables\n",
    "    sess.run(tf.global_variables_initializer())\n",
    "    \n",
    "    # Training cycle\n",
    "    for epoch in range(epochs):\n",
    "        # Loop over all batches\n",
    "        n_batches = 5\n",
    "        for batch_i in range(1, n_batches + 1):\n",
    "            for batch_features, batch_labels in helper.load_preprocess_training_batch(batch_i, batch_size):\n",
    "                train_neural_network(sess, optimizer, keep_probability, batch_features, batch_labels)\n",
    "            print('Epoch {:>2}, CIFAR-10 Batch {}:  '.format(epoch + 1, batch_i), end='')\n",
    "            print_stats(sess, batch_features, batch_labels, cost, accuracy)\n",
    "            \n",
    "    # Save Model\n",
    "    saver = tf.train.Saver()\n",
    "    save_path = saver.save(sess, save_model_path)"
   ]
  },
  {
   "cell_type": "markdown",
   "metadata": {
    "deletable": true,
    "editable": true
   },
   "source": [
    "# Checkpoint\n",
    "The model has been saved to disk.\n",
    "## Test Model\n",
    "Test your model against the test dataset.  This will be your final accuracy. You should have an accuracy greater than 50%. If you don't, keep tweaking the model architecture and parameters."
   ]
  },
  {
   "cell_type": "code",
   "execution_count": 19,
   "metadata": {
    "collapsed": false,
    "deletable": true,
    "editable": true
   },
   "outputs": [
    {
     "name": "stdout",
     "output_type": "stream",
     "text": [
      "Testing Accuracy: 0.7429339171974523\n",
      "\n"
     ]
    },
    {
     "data": {
      "image/png": "[encoded data removed]",
      "text/plain": [
       "<matplotlib.figure.Figure at 0x7f3e829f5400>"
      ]
     },
     "metadata": {
      "image/png": {
       "height": 319,
       "width": 355
      }
     },
     "output_type": "display_data"
    }
   ],
   "source": [
    "\"\"\"\n",
    "DON'T MODIFY ANYTHING IN THIS CELL\n",
    "\"\"\"\n",
    "%matplotlib inline\n",
    "%config InlineBackend.figure_format = 'retina'\n",
    "\n",
    "import tensorflow as tf\n",
    "import pickle\n",
    "import helper\n",
    "import random\n",
    "\n",
    "# Set batch size if not already set\n",
    "try:\n",
    "    if batch_size:\n",
    "        pass\n",
    "except NameError:\n",
    "    batch_size = 64\n",
    "\n",
    "save_model_path = './image_classification'\n",
    "n_samples = 4\n",
    "top_n_predictions = 3\n",
    "\n",
    "def test_model():\n",
    "    \"\"\"\n",
    "    Test the saved model against the test dataset\n",
    "    \"\"\"\n",
    "\n",
    "    test_features, test_labels = pickle.load(open('preprocess_training.p', mode='rb'))\n",
    "    loaded_graph = tf.Graph()\n",
    "\n",
    "    with tf.Session(graph=loaded_graph) as sess:\n",
    "        # Load model\n",
    "        loader = tf.train.import_meta_graph(save_model_path + '.meta')\n",
    "        loader.restore(sess, save_model_path)\n",
    "\n",
    "        # Get Tensors from loaded model\n",
    "        loaded_x = loaded_graph.get_tensor_by_name('x:0')\n",
    "        loaded_y = loaded_graph.get_tensor_by_name('y:0')\n",
    "        loaded_keep_prob = loaded_graph.get_tensor_by_name('keep_prob:0')\n",
    "        loaded_logits = loaded_graph.get_tensor_by_name('logits:0')\n",
    "        loaded_acc = loaded_graph.get_tensor_by_name('accuracy:0')\n",
    "        \n",
    "        # Get accuracy in batches for memory limitations\n",
    "        test_batch_acc_total = 0\n",
    "        test_batch_count = 0\n",
    "        \n",
    "        for train_feature_batch, train_label_batch in helper.batch_features_labels(test_features, test_labels, batch_size):\n",
    "            test_batch_acc_total += sess.run(\n",
    "                loaded_acc,\n",
    "                feed_dict={loaded_x: train_feature_batch, loaded_y: train_label_batch, loaded_keep_prob: 1.0})\n",
    "            test_batch_count += 1\n",
    "\n",
    "        print('Testing Accuracy: {}\\n'.format(test_batch_acc_total/test_batch_count))\n",
    "\n",
    "        # Print Random Samples\n",
    "        random_test_features, random_test_labels = tuple(zip(*random.sample(list(zip(test_features, test_labels)), n_samples)))\n",
    "        random_test_predictions = sess.run(\n",
    "            tf.nn.top_k(tf.nn.softmax(loaded_logits), top_n_predictions),\n",
    "            feed_dict={loaded_x: random_test_features, loaded_y: random_test_labels, loaded_keep_prob: 1.0})\n",
    "        helper.display_image_predictions(random_test_features, random_test_labels, random_test_predictions)\n",
    "\n",
    "\n",
    "test_model()"
   ]
  },
  {
   "cell_type": "markdown",
   "metadata": {
    "deletable": true,
    "editable": true
   },
   "source": [
    "## Why 50-80% Accuracy?\n",
    "You might be wondering why you can't get an accuracy any higher. First things first, 50% isn't bad for a simple CNN.  Pure guessing would get you 10% accuracy. However, you might notice people are getting scores [well above 80%](http://rodrigob.github.io/are_we_there_yet/build/classification_datasets_results.html#43494641522d3130).  That's because we haven't taught you all there is to know about neural networks. We still need to cover a few more techniques.\n",
    "## Submitting This Project\n",
    "When submitting this project, make sure to run all the cells before saving the notebook.  Save the notebook file as \"dlnd_image_classification.ipynb\" and save it as a HTML file under \"File\" -> \"Download as\".  Include the \"helper.py\" and \"problem_unittests.py\" files in your submission."
   ]
  }
 ],
 "metadata": {
  "kernelspec": {
   "display_name": "Python 3",
   "language": "python",
   "name": "python3"
  },
  "language_info": {
   "codemirror_mode": {
    "name": "ipython",
    "version": 3
   },
   "file_extension": ".py",
   "mimetype": "text/x-python",
   "name": "python",
   "nbconvert_exporter": "python",
   "pygments_lexer": "ipython3",
   "version": "3.5.2"
  },
  "widgets": {
   "state": {},
   "version": "1.1.2"
  }
 },
 "nbformat": 4,
 "nbformat_minor": 0
}
